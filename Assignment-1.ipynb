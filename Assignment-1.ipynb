{
 "cells": [
  {
   "cell_type": "markdown",
   "id": "c6ff60bd-61ee-4bf8-a4ed-71e3d6d86923",
   "metadata": {},
   "source": [
    "### Q1. Create one variable containing following type of data:\n",
    "(i) string\n",
    "(ii) list\n",
    "(iii) float\n",
    "(iv) tuple"
   ]
  },
  {
   "cell_type": "code",
   "execution_count": 4,
   "id": "07e55942-24b4-4518-b447-e5db31e35f49",
   "metadata": {},
   "outputs": [],
   "source": [
    "str1 = 'abc' #string"
   ]
  },
  {
   "cell_type": "code",
   "execution_count": 5,
   "id": "c70f17fd-5d94-4e8e-b360-8f9f7b5d50ff",
   "metadata": {},
   "outputs": [],
   "source": [
    "lst = [1,2,3] # list"
   ]
  },
  {
   "cell_type": "code",
   "execution_count": 6,
   "id": "4c09bfce-12b5-4bcd-9ebf-2ca68b18ac05",
   "metadata": {},
   "outputs": [],
   "source": [
    "flt = 3.21 #float"
   ]
  },
  {
   "cell_type": "code",
   "execution_count": 7,
   "id": "f77ffe44-804b-4aef-a8c4-12949e76681b",
   "metadata": {},
   "outputs": [],
   "source": [
    "tup =(1,2) #tuple"
   ]
  },
  {
   "cell_type": "markdown",
   "id": "acff3b7f-b015-4d10-8d3a-67e6947af4a4",
   "metadata": {},
   "source": [
    "### Q2. Given are some following variables containing data:\n",
    "(i) var1 = ‘ ‘\n",
    "(ii) var2 = ‘[ DS , ML , Python]’\n",
    "(iii) var3 = [ ‘DS’ , ’ML’ , ‘Python’ ]\n",
    "(iv) var4 = 1."
   ]
  },
  {
   "cell_type": "code",
   "execution_count": 14,
   "id": "8adcb76b-7635-463a-9487-5d7960600fcb",
   "metadata": {},
   "outputs": [],
   "source": [
    "var1 =  '' # string"
   ]
  },
  {
   "cell_type": "code",
   "execution_count": 16,
   "id": "c3f036b8-3c14-4077-aadd-c7e068c9f64d",
   "metadata": {},
   "outputs": [],
   "source": [
    "var2 = '[ DS , ML , Python]' # string"
   ]
  },
  {
   "cell_type": "code",
   "execution_count": 18,
   "id": "53483b36-869f-476c-8c59-1c95bf57ee2c",
   "metadata": {},
   "outputs": [],
   "source": [
    "var3 = ['DS' , 'ML' , 'Python' ] # list"
   ]
  },
  {
   "cell_type": "code",
   "execution_count": 21,
   "id": "80e11595-c24f-4910-bda7-622c5fe2ec9c",
   "metadata": {},
   "outputs": [],
   "source": [
    "var4 = 1. # float"
   ]
  },
  {
   "cell_type": "markdown",
   "id": "78c06174-327f-4cce-bc40-3b2d429165ea",
   "metadata": {},
   "source": [
    "### Q3. Explain the use of the following operators using an example:\n",
    "(i) /\n",
    "(ii) %\n",
    "(iii) //\n",
    "(iv) **"
   ]
  },
  {
   "cell_type": "code",
   "execution_count": null,
   "id": "cd031c42-4f68-40f3-b26e-2e785c2ad785",
   "metadata": {},
   "outputs": [],
   "source": [
    "'/' # divide"
   ]
  },
  {
   "cell_type": "code",
   "execution_count": null,
   "id": "52e13133-795d-4297-aff0-f0ae81df28b1",
   "metadata": {},
   "outputs": [],
   "source": [
    "'%' # Modulus"
   ]
  },
  {
   "cell_type": "code",
   "execution_count": null,
   "id": "30557c2a-ec6c-44f0-81aa-157d245ea462",
   "metadata": {},
   "outputs": [],
   "source": [
    "'//' # Floor division"
   ]
  },
  {
   "cell_type": "code",
   "execution_count": null,
   "id": "0f15b6e1-e829-4744-bab9-b952b1f9b955",
   "metadata": {},
   "outputs": [],
   "source": [
    "'**' # Exponentiation"
   ]
  },
  {
   "cell_type": "markdown",
   "id": "c152e225-9c5f-4127-b414-695bfaded5c4",
   "metadata": {},
   "source": [
    "### Q4. Create a list of length 10 of your choice containing multiple types of data. Using for loop print the element and its data type."
   ]
  },
  {
   "cell_type": "code",
   "execution_count": 24,
   "id": "2aa243b6-2e2c-44db-b371-0f5419847dfc",
   "metadata": {},
   "outputs": [],
   "source": [
    "lst = [1,2.0,3,'pwskill',(5,6),[7,8],9+9.5j,True]"
   ]
  },
  {
   "cell_type": "markdown",
   "id": "c4a967f5-0ee2-4ad0-9d80-cd66809d2d83",
   "metadata": {},
   "source": [
    "### Q5. Using a while loop, verify if the number A is purely divisible by number B and if so then how many times it can be divisible."
   ]
  },
  {
   "cell_type": "code",
   "execution_count": 7,
   "id": "b4ee9dbd-bae9-4768-b533-51225036aa9f",
   "metadata": {},
   "outputs": [
    {
     "name": "stdin",
     "output_type": "stream",
     "text": [
      "Enter number a=  125\n",
      "Enter number b=  5\n"
     ]
    },
    {
     "name": "stdout",
     "output_type": "stream",
     "text": [
      "125 is purely divisible by 5 and can be divided 25 times.\n"
     ]
    }
   ],
   "source": [
    "a= int(input('Enter number a= '))\n",
    "b= int(input('Enter number b= '))\n",
    "a1=a\n",
    "\n",
    "count = 0\n",
    "while a % b == 0:\n",
    "    count = a // b\n",
    "    break\n",
    "\n",
    "if count > 0:\n",
    "    print(f\"{a1} is purely divisible by {b} and can be divided {count} times.\")\n",
    "else:\n",
    "    print(f\"{a1} is not purely divisible by {b}.\")"
   ]
  },
  {
   "cell_type": "markdown",
   "id": "cf5bc8aa-2600-4151-b18c-762a385447c1",
   "metadata": {},
   "source": [
    "### Q6. Create a list containing 25 int type data. Using for loop and if-else condition print if the element is divisible by 3 or not."
   ]
  },
  {
   "cell_type": "code",
   "execution_count": 47,
   "id": "1953b79b-712d-40d2-b680-88689010652e",
   "metadata": {},
   "outputs": [],
   "source": [
    "lst = [i for i in range(1,25)]"
   ]
  },
  {
   "cell_type": "code",
   "execution_count": 48,
   "id": "29191499-c3cd-4a60-94a1-3c1ad592786a",
   "metadata": {},
   "outputs": [
    {
     "name": "stdout",
     "output_type": "stream",
     "text": [
      "Element i= 1 is not divisible by 3\n",
      "Element i= 2 is not divisible by 3\n",
      "Element i= 3 is divisible by 3\n",
      "Element i= 4 is not divisible by 3\n",
      "Element i= 5 is not divisible by 3\n",
      "Element i= 6 is divisible by 3\n",
      "Element i= 7 is not divisible by 3\n",
      "Element i= 8 is not divisible by 3\n",
      "Element i= 9 is divisible by 3\n",
      "Element i= 10 is not divisible by 3\n",
      "Element i= 11 is not divisible by 3\n",
      "Element i= 12 is divisible by 3\n",
      "Element i= 13 is not divisible by 3\n",
      "Element i= 14 is not divisible by 3\n",
      "Element i= 15 is divisible by 3\n",
      "Element i= 16 is not divisible by 3\n",
      "Element i= 17 is not divisible by 3\n",
      "Element i= 18 is divisible by 3\n",
      "Element i= 19 is not divisible by 3\n",
      "Element i= 20 is not divisible by 3\n",
      "Element i= 21 is divisible by 3\n",
      "Element i= 22 is not divisible by 3\n",
      "Element i= 23 is not divisible by 3\n",
      "Element i= 24 is divisible by 3\n"
     ]
    }
   ],
   "source": [
    "for i in lst:\n",
    "    if i%3==0:\n",
    "        print(f'Element i= {i} is divisible by 3')\n",
    "    else:\n",
    "        print(f'Element i= {i} is not divisible by 3')"
   ]
  },
  {
   "cell_type": "markdown",
   "id": "993bda2f-b1ca-4634-ae18-b36431f6b952",
   "metadata": {},
   "source": [
    "### Q7. What do you understand about mutable and immutable data types? Give examples for both showing this property."
   ]
  },
  {
   "cell_type": "markdown",
   "id": "7ab537ae-da02-4e37-8b6d-eaa22431bc0c",
   "metadata": {},
   "source": [
    "#### Mutable: Mutable data types are data types that allow to modify/change of data elements at a specific index/location\n",
    "\n",
    "#### Immutable: Immutable data types are data types that do not allow any modifying/change of data elements at any index/location"
   ]
  },
  {
   "cell_type": "code",
   "execution_count": 49,
   "id": "66d7d393-b7e2-45e9-b247-24ee874803a0",
   "metadata": {},
   "outputs": [],
   "source": [
    "# Mutable examples:\n",
    "# List\n",
    "lst = [1,2,3,4]"
   ]
  },
  {
   "cell_type": "code",
   "execution_count": 50,
   "id": "9ad22164-0dcf-4701-9eea-cfedbd9d88bf",
   "metadata": {},
   "outputs": [
    {
     "data": {
      "text/plain": [
       "[1, 2, 3, 4]"
      ]
     },
     "execution_count": 50,
     "metadata": {},
     "output_type": "execute_result"
    }
   ],
   "source": [
    "lst"
   ]
  },
  {
   "cell_type": "code",
   "execution_count": 51,
   "id": "3eb72684-2b93-4e73-883b-c707822cfc4a",
   "metadata": {},
   "outputs": [],
   "source": [
    "lst[2]=10"
   ]
  },
  {
   "cell_type": "code",
   "execution_count": 52,
   "id": "3ccd7806-5d5a-4a42-a789-f7eec20a1774",
   "metadata": {},
   "outputs": [
    {
     "data": {
      "text/plain": [
       "[1, 2, 10, 4]"
      ]
     },
     "execution_count": 52,
     "metadata": {},
     "output_type": "execute_result"
    }
   ],
   "source": [
    "lst"
   ]
  },
  {
   "cell_type": "code",
   "execution_count": 53,
   "id": "3a782d90-fb66-4ca5-8a45-de7ad62edc14",
   "metadata": {},
   "outputs": [],
   "source": [
    "# Immutable examples:\n",
    "# Tuples\n",
    "\n",
    "tup =(1,2,3)"
   ]
  },
  {
   "cell_type": "code",
   "execution_count": 54,
   "id": "8864e00d-8274-42e9-b34a-77cdaddb671e",
   "metadata": {},
   "outputs": [
    {
     "ename": "TypeError",
     "evalue": "'tuple' object does not support item assignment",
     "output_type": "error",
     "traceback": [
      "\u001b[0;31m---------------------------------------------------------------------------\u001b[0m",
      "\u001b[0;31mTypeError\u001b[0m                                 Traceback (most recent call last)",
      "Cell \u001b[0;32mIn[54], line 1\u001b[0m\n\u001b[0;32m----> 1\u001b[0m \u001b[43mtup\u001b[49m\u001b[43m[\u001b[49m\u001b[38;5;241;43m0\u001b[39;49m\u001b[43m]\u001b[49m \u001b[38;5;241m=\u001b[39m \u001b[38;5;241m30\u001b[39m\n",
      "\u001b[0;31mTypeError\u001b[0m: 'tuple' object does not support item assignment"
     ]
    }
   ],
   "source": [
    "tup[0] = 30"
   ]
  },
  {
   "cell_type": "code",
   "execution_count": null,
   "id": "756afbd5-b49b-45f1-82a6-1937c198340a",
   "metadata": {},
   "outputs": [],
   "source": []
  }
 ],
 "metadata": {
  "kernelspec": {
   "display_name": "Python 3 (ipykernel)",
   "language": "python",
   "name": "python3"
  },
  "language_info": {
   "codemirror_mode": {
    "name": "ipython",
    "version": 3
   },
   "file_extension": ".py",
   "mimetype": "text/x-python",
   "name": "python",
   "nbconvert_exporter": "python",
   "pygments_lexer": "ipython3",
   "version": "3.10.8"
  }
 },
 "nbformat": 4,
 "nbformat_minor": 5
}
