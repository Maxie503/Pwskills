{
 "cells": [
  {
   "cell_type": "markdown",
   "id": "72302d7e-c1a5-417d-84a9-deebc8a18a6d",
   "metadata": {},
   "source": [
    "Q1. Create a Pandas Series that contains the following data: 4, 8, 15, 16, 23, and 42. Then, print the series."
   ]
  },
  {
   "cell_type": "code",
   "execution_count": 7,
   "id": "00f44861-ba85-418c-b6bb-7f1888d68136",
   "metadata": {},
   "outputs": [
    {
     "name": "stdout",
     "output_type": "stream",
     "text": [
      "0     4\n",
      "1     8\n",
      "2    15\n",
      "3    16\n",
      "4    23\n",
      "5    42\n",
      "dtype: int64\n"
     ]
    }
   ],
   "source": [
    "import pandas as pd\n",
    "data = [4,8,15,16,23,42]\n",
    "series = pd.Series(data)\n",
    "print(series)"
   ]
  },
  {
   "cell_type": "markdown",
   "id": "7f994ae1-5a21-460a-a45a-665a6a6e1c66",
   "metadata": {},
   "source": [
    "Q2. Create a variable of list type containing 10 elements in it, and apply pandas.Series function on the\n",
    "variable print it."
   ]
  },
  {
   "cell_type": "code",
   "execution_count": 9,
   "id": "49862c8c-44d9-4a98-864c-269f344d337f",
   "metadata": {},
   "outputs": [],
   "source": [
    "lst= [3*i for i in range(1,11)]"
   ]
  },
  {
   "cell_type": "code",
   "execution_count": 12,
   "id": "d55d3e2e-c634-4f50-9ac3-112acbbd6f92",
   "metadata": {},
   "outputs": [
    {
     "name": "stdout",
     "output_type": "stream",
     "text": [
      "0     3\n",
      "1     6\n",
      "2     9\n",
      "3    12\n",
      "4    15\n",
      "5    18\n",
      "6    21\n",
      "7    24\n",
      "8    27\n",
      "9    30\n",
      "dtype: int64\n"
     ]
    }
   ],
   "source": [
    "series2 = pd.Series(lst)\n",
    "print(series2)"
   ]
  },
  {
   "cell_type": "markdown",
   "id": "b1f29ef8-ff9e-4f22-a7d3-06cc8454dd87",
   "metadata": {},
   "source": [
    "# Q3. Create a Pandas DataFrame that contains the following data:"
   ]
  },
  {
   "cell_type": "code",
   "execution_count": 52,
   "id": "becbaad1-32fb-4083-86cd-0f129ba604cf",
   "metadata": {},
   "outputs": [],
   "source": [
    "data = [['Alice',25,'Female'],['Bob',30,'Male'],['Claire', 27,'Female']]"
   ]
  },
  {
   "cell_type": "code",
   "execution_count": 53,
   "id": "de2c9189-6ffb-46f1-a2c0-1ffcccf8b761",
   "metadata": {},
   "outputs": [],
   "source": [
    "df3 = pd.DataFrame(data, columns=['Name', \"Age\",'Gender'])"
   ]
  },
  {
   "cell_type": "code",
   "execution_count": 54,
   "id": "4543d43f-d132-4a66-9054-ecae7994ba7a",
   "metadata": {},
   "outputs": [
    {
     "data": {
      "text/html": [
       "<div>\n",
       "<style scoped>\n",
       "    .dataframe tbody tr th:only-of-type {\n",
       "        vertical-align: middle;\n",
       "    }\n",
       "\n",
       "    .dataframe tbody tr th {\n",
       "        vertical-align: top;\n",
       "    }\n",
       "\n",
       "    .dataframe thead th {\n",
       "        text-align: right;\n",
       "    }\n",
       "</style>\n",
       "<table border=\"1\" class=\"dataframe\">\n",
       "  <thead>\n",
       "    <tr style=\"text-align: right;\">\n",
       "      <th></th>\n",
       "      <th>Name</th>\n",
       "      <th>Age</th>\n",
       "      <th>Gender</th>\n",
       "    </tr>\n",
       "  </thead>\n",
       "  <tbody>\n",
       "    <tr>\n",
       "      <th>0</th>\n",
       "      <td>Alice</td>\n",
       "      <td>25</td>\n",
       "      <td>Female</td>\n",
       "    </tr>\n",
       "    <tr>\n",
       "      <th>1</th>\n",
       "      <td>Bob</td>\n",
       "      <td>30</td>\n",
       "      <td>Male</td>\n",
       "    </tr>\n",
       "    <tr>\n",
       "      <th>2</th>\n",
       "      <td>Claire</td>\n",
       "      <td>27</td>\n",
       "      <td>Female</td>\n",
       "    </tr>\n",
       "  </tbody>\n",
       "</table>\n",
       "</div>"
      ],
      "text/plain": [
       "     Name  Age  Gender\n",
       "0   Alice   25  Female\n",
       "1     Bob   30    Male\n",
       "2  Claire   27  Female"
      ]
     },
     "execution_count": 54,
     "metadata": {},
     "output_type": "execute_result"
    }
   ],
   "source": [
    "df3"
   ]
  },
  {
   "cell_type": "code",
   "execution_count": 55,
   "id": "dfedfc9e-0d1d-4ec6-8492-bf6b3cc7189b",
   "metadata": {},
   "outputs": [
    {
     "name": "stdout",
     "output_type": "stream",
     "text": [
      "  Name  Age Gender\n",
      " Alice   25 Female\n",
      "   Bob   30   Male\n",
      "Claire   27 Female\n"
     ]
    }
   ],
   "source": [
    "print(df3.to_string(index=False))"
   ]
  },
  {
   "cell_type": "markdown",
   "id": "3cffbb01-d3e3-4405-bfc4-154769e21dc2",
   "metadata": {},
   "source": [
    "# Q4. What is ‘DataFrame’ in pandas and how is it different from pandas.series? Explain with an example."
   ]
  },
  {
   "cell_type": "markdown",
   "id": "f8bdbcb4-2e33-4e86-a21d-bb4a1751ca31",
   "metadata": {},
   "source": [
    "### Pandas DataFrame is two-dimensional (2D) size-mutable, potentially heterogeneous tabular data structure with labeled axes (rows and columns).\n",
    "\n",
    "### pandas.series are 1d array wherear dataframes are 2d arrays"
   ]
  },
  {
   "cell_type": "markdown",
   "id": "ecc87d6e-c697-4880-9f99-a8d6d1790350",
   "metadata": {},
   "source": [
    "# Q5. What are some common functions you can use to manipulate data in a Pandas DataFrame? Can you give an example of when you might use one of these functions?"
   ]
  },
  {
   "cell_type": "markdown",
   "id": "024228d7-0cec-429a-93e4-32b4f4747604",
   "metadata": {},
   "source": [
    "df.drop() for deleting any row or column\n",
    "eg. \n",
    "df.drop(1, axis=0) will delete row with index 1\n",
    "df.drop(1, axis=1) will delete column with index 1\n",
    "\n",
    "drop function is used when we need to delete a column or row from dataframe\n"
   ]
  },
  {
   "cell_type": "markdown",
   "id": "478d3650-033b-4625-8e0e-baab8e8b491d",
   "metadata": {},
   "source": [
    "# Q6. Which of the following is mutable in nature Series, DataFrame, Panel?"
   ]
  },
  {
   "cell_type": "markdown",
   "id": "f090db6a-3d78-4586-9b12-8042a24f1ea3",
   "metadata": {},
   "source": [
    "Series>>>>    Value Mutable but not size Mutable\n",
    "\n",
    "DataFrame>    Value Mutable and size Mutable\n",
    "\n",
    "Panel>>>>>    Value Mutable and size Mutable"
   ]
  },
  {
   "cell_type": "markdown",
   "id": "f2e0189e-769b-467b-a31c-60a9220e1e47",
   "metadata": {},
   "source": [
    "# Q7. Create a DataFrame using multiple Series. Explain with an example."
   ]
  },
  {
   "cell_type": "code",
   "execution_count": 71,
   "id": "16be4f7f-ce79-402d-93ad-b279b843322a",
   "metadata": {},
   "outputs": [],
   "source": [
    "course = pd.Series(['DS','WD','JS'], name='course')\n",
    "fee =pd.Series([1000,1000,10000],name='fee')\n",
    "time= pd.Series(['9-3','12-6','3-9'], name='timings')"
   ]
  },
  {
   "cell_type": "code",
   "execution_count": 72,
   "id": "de096dda-0acd-41f9-8c1a-d028512c6c61",
   "metadata": {},
   "outputs": [],
   "source": [
    "df7 = pd.concat([course,fee,time],axis=1)"
   ]
  },
  {
   "cell_type": "code",
   "execution_count": 73,
   "id": "3564892c-d3f1-4ff6-bd48-bb02c9f0d2f1",
   "metadata": {},
   "outputs": [
    {
     "data": {
      "text/html": [
       "<div>\n",
       "<style scoped>\n",
       "    .dataframe tbody tr th:only-of-type {\n",
       "        vertical-align: middle;\n",
       "    }\n",
       "\n",
       "    .dataframe tbody tr th {\n",
       "        vertical-align: top;\n",
       "    }\n",
       "\n",
       "    .dataframe thead th {\n",
       "        text-align: right;\n",
       "    }\n",
       "</style>\n",
       "<table border=\"1\" class=\"dataframe\">\n",
       "  <thead>\n",
       "    <tr style=\"text-align: right;\">\n",
       "      <th></th>\n",
       "      <th>course</th>\n",
       "      <th>fee</th>\n",
       "      <th>timings</th>\n",
       "    </tr>\n",
       "  </thead>\n",
       "  <tbody>\n",
       "    <tr>\n",
       "      <th>0</th>\n",
       "      <td>DS</td>\n",
       "      <td>1000</td>\n",
       "      <td>9-3</td>\n",
       "    </tr>\n",
       "    <tr>\n",
       "      <th>1</th>\n",
       "      <td>WD</td>\n",
       "      <td>1000</td>\n",
       "      <td>12-6</td>\n",
       "    </tr>\n",
       "    <tr>\n",
       "      <th>2</th>\n",
       "      <td>JS</td>\n",
       "      <td>10000</td>\n",
       "      <td>3-9</td>\n",
       "    </tr>\n",
       "  </tbody>\n",
       "</table>\n",
       "</div>"
      ],
      "text/plain": [
       "  course    fee timings\n",
       "0     DS   1000     9-3\n",
       "1     WD   1000    12-6\n",
       "2     JS  10000     3-9"
      ]
     },
     "execution_count": 73,
     "metadata": {},
     "output_type": "execute_result"
    }
   ],
   "source": [
    "df7"
   ]
  },
  {
   "cell_type": "code",
   "execution_count": null,
   "id": "d7d9ed42-e582-4415-899d-191a0be3493a",
   "metadata": {},
   "outputs": [],
   "source": []
  }
 ],
 "metadata": {
  "kernelspec": {
   "display_name": "Python 3 (ipykernel)",
   "language": "python",
   "name": "python3"
  },
  "language_info": {
   "codemirror_mode": {
    "name": "ipython",
    "version": 3
   },
   "file_extension": ".py",
   "mimetype": "text/x-python",
   "name": "python",
   "nbconvert_exporter": "python",
   "pygments_lexer": "ipython3",
   "version": "3.10.8"
  }
 },
 "nbformat": 4,
 "nbformat_minor": 5
}
