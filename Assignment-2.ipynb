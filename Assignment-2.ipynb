{
 "cells": [
  {
   "cell_type": "markdown",
   "id": "394f30e3-60cd-4796-9448-2e153a89615e",
   "metadata": {},
   "source": [
    "# Q1. How do you comment code in Python? What are the different types of comments?\n"
   ]
  },
  {
   "cell_type": "markdown",
   "id": "c7f2a4bf-c82a-4e87-a990-df3fc410a893",
   "metadata": {},
   "source": [
    "1. Single line comments: use to comments only a single line e.g. # This is a single line comment\n",
    "2. Multi Line comments: ''' is use to comment the starting and ending of multiple line'''"
   ]
  },
  {
   "cell_type": "markdown",
   "id": "b7d634c5-f3ef-43be-9284-feb02a609df6",
   "metadata": {},
   "source": [
    "# Q2. What are variables in Python? How do you declare and assign values to variables?"
   ]
  },
  {
   "cell_type": "markdown",
   "id": "019c2c7d-2dff-4730-b477-333c18925f1f",
   "metadata": {},
   "source": [
    "a variable is a container for storing data values. In python simlple assigning a vaule to any name eg. variableName = value   "
   ]
  },
  {
   "cell_type": "markdown",
   "id": "e9e7907e-94d0-4da3-8f06-b6c431ed3575",
   "metadata": {},
   "source": [
    "# Q3. How do you convert one data type to another in Python?"
   ]
  },
  {
   "cell_type": "markdown",
   "id": "4ae7b269-8496-4e0d-aa2f-efcc98a241d8",
   "metadata": {},
   "source": [
    "by using type casting one data type can be converted into different data type. eg. str(int(1)) "
   ]
  },
  {
   "cell_type": "markdown",
   "id": "c7409336-9f1c-4281-a4c4-5daae6facc6c",
   "metadata": {},
   "source": [
    "# Q4. How do you write and execute a Python script from the command line?"
   ]
  },
  {
   "cell_type": "markdown",
   "id": "c83d6e24-cb19-4023-afdf-7eb451b99cc5",
   "metadata": {},
   "source": [
    "we need to type \"python3 'file location'\" then press enter, eg. python3 C:\\hello.py then press enter"
   ]
  },
  {
   "cell_type": "markdown",
   "id": "7fa44e74-2857-4f3c-b248-b64ab60b4666",
   "metadata": {},
   "source": [
    "# Q5. Given a list my_list = [1, 2, 3, 4, 5], write the code to slice the list and obtain the sub-list [2, 3]."
   ]
  },
  {
   "cell_type": "code",
   "execution_count": null,
   "id": "7c5d932b-d685-4536-b773-c93a4a6efee1",
   "metadata": {},
   "outputs": [],
   "source": [
    "my_list[1:3]"
   ]
  },
  {
   "cell_type": "markdown",
   "id": "d655595b-1235-4e76-8cba-6d93b1b5c1a8",
   "metadata": {},
   "source": [
    "\n",
    "# Q6. What is a complex number in mathematics, and how is it represented in Python?\n"
   ]
  },
  {
   "cell_type": "code",
   "execution_count": null,
   "id": "8f9f074a-23a1-499d-b991-fd7f6d67e29f",
   "metadata": {},
   "outputs": [],
   "source": [
    "Number that are represented by real and imaginary part. In pyhthon it is represented by 3+2j"
   ]
  },
  {
   "cell_type": "markdown",
   "id": "c2cb1a4e-ac64-4295-8ef9-a074382a2696",
   "metadata": {},
   "source": [
    "# Q7. What is the correct way to declare a variable named age and assign the value 25 to it?"
   ]
  },
  {
   "cell_type": "code",
   "execution_count": 5,
   "id": "b7f97d14-40fe-4a01-8287-f5292fad3913",
   "metadata": {},
   "outputs": [],
   "source": [
    "age=25"
   ]
  },
  {
   "cell_type": "markdown",
   "id": "0d8fe3b9-9883-42df-8504-e56352e54a7e",
   "metadata": {},
   "source": [
    "# Q8. Declare a variable named price and assign the value 9.99 to it. What data type does this variable belong to?"
   ]
  },
  {
   "cell_type": "code",
   "execution_count": null,
   "id": "b8b72b24-aab8-4156-9211-ca9e1c832b8b",
   "metadata": {},
   "outputs": [],
   "source": [
    "price=9.99 # This will hold float type data, i.e. data type = float"
   ]
  },
  {
   "cell_type": "markdown",
   "id": "4507e188-f528-4778-8e85-9601ca9d6985",
   "metadata": {},
   "source": [
    "# Q9. Create a variable named name and assign your full name to it as a string. How would you print the value of this variable?"
   ]
  },
  {
   "cell_type": "code",
   "execution_count": 6,
   "id": "4b08ecbf-eb8f-44ba-9e88-c5e9cdb9343a",
   "metadata": {},
   "outputs": [],
   "source": [
    "name= 'Rohan Sharma'"
   ]
  },
  {
   "cell_type": "code",
   "execution_count": 7,
   "id": "e790e2e3-87f2-4f2c-8dc2-79d40b533824",
   "metadata": {},
   "outputs": [
    {
     "name": "stdout",
     "output_type": "stream",
     "text": [
      "Rohan Sharma\n"
     ]
    }
   ],
   "source": [
    "print(name)"
   ]
  },
  {
   "cell_type": "markdown",
   "id": "b589a6ad-d4a7-47f6-b142-e0e2fb3f6448",
   "metadata": {},
   "source": [
    "# Q10. Given the string \"Hello, World!\", extract the substring \"World\"."
   ]
  },
  {
   "cell_type": "code",
   "execution_count": 8,
   "id": "35cf116b-c679-4023-b92a-bbffac9ae68f",
   "metadata": {},
   "outputs": [],
   "source": [
    "string = 'Hello World'"
   ]
  },
  {
   "cell_type": "code",
   "execution_count": 10,
   "id": "32784489-e9f0-4273-ac69-616b3a16a8c6",
   "metadata": {},
   "outputs": [
    {
     "data": {
      "text/plain": [
       "'World'"
      ]
     },
     "execution_count": 10,
     "metadata": {},
     "output_type": "execute_result"
    }
   ],
   "source": [
    "string[6:]"
   ]
  },
  {
   "cell_type": "markdown",
   "id": "58f8e18f-8037-44e5-96d8-baaa4e54e296",
   "metadata": {},
   "source": [
    "# Q11. Create a variable named \"is_student\" and assign it a boolean value indicating whether you are currently a student or not."
   ]
  },
  {
   "cell_type": "code",
   "execution_count": 12,
   "id": "9ffbe971-e66c-419d-80de-65eeeed5c21e",
   "metadata": {},
   "outputs": [],
   "source": [
    "is_student= True"
   ]
  },
  {
   "cell_type": "code",
   "execution_count": 13,
   "id": "55980e97-961a-4310-9c59-65ecfcd2927d",
   "metadata": {},
   "outputs": [
    {
     "data": {
      "text/plain": [
       "True"
      ]
     },
     "execution_count": 13,
     "metadata": {},
     "output_type": "execute_result"
    }
   ],
   "source": [
    "is_student"
   ]
  },
  {
   "cell_type": "code",
   "execution_count": null,
   "id": "03c4c417-d63d-489f-a68b-740ceffa15a1",
   "metadata": {},
   "outputs": [],
   "source": []
  }
 ],
 "metadata": {
  "kernelspec": {
   "display_name": "Python 3 (ipykernel)",
   "language": "python",
   "name": "python3"
  },
  "language_info": {
   "codemirror_mode": {
    "name": "ipython",
    "version": 3
   },
   "file_extension": ".py",
   "mimetype": "text/x-python",
   "name": "python",
   "nbconvert_exporter": "python",
   "pygments_lexer": "ipython3",
   "version": "3.10.8"
  }
 },
 "nbformat": 4,
 "nbformat_minor": 5
}
