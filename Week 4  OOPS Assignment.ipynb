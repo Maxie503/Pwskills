{
 "cells": [
  {
   "cell_type": "markdown",
   "id": "f2d49450-ea9b-4e8a-8192-0341da45776b",
   "metadata": {},
   "source": [
    "# Q1. Explain Class and Object with respect to Object-Oriented Programming. Give a suitable example."
   ]
  },
  {
   "cell_type": "markdown",
   "id": "09eb3ce3-67b6-48c7-9111-b731101a8aa0",
   "metadata": {},
   "source": [
    "Class:\n",
    "    Class is a blueprint or templates for creating objects in programming language\n",
    "    It defines attributes (properties) and functions (methods) that are common to all class variables/ instances.\n",
    "    Multiple object can be created with unique set of attributes values.\n",
    "\n",
    "Objects:\n",
    "    Objects represent real-world entities and have both attributes or properties and function(methods) associated with them.\n",
    "    \n",
    "in the below example:\n",
    "\n",
    "    Class pwskill has attributes name,id,age and a function \"std_details\"\n",
    "    mohan is the object of the class pwskill"
   ]
  },
  {
   "cell_type": "code",
   "execution_count": 1,
   "id": "d2401842-53de-478b-80f1-6a39d2430755",
   "metadata": {},
   "outputs": [],
   "source": [
    "## Example:\n",
    "class pwskill:\n",
    "    def __init__(self,sname,sid,age):\n",
    "        self.name=sname\n",
    "        self.id=sid\n",
    "        self.age=age\n",
    "    def std_details(self):\n",
    "        return self.name, self.id, self.age    "
   ]
  },
  {
   "cell_type": "code",
   "execution_count": 2,
   "id": "3943b0a6-2ab1-4c62-87aa-636ac68b3859",
   "metadata": {},
   "outputs": [],
   "source": [
    "mohan = pwskill('mohan',47894,22)"
   ]
  },
  {
   "cell_type": "code",
   "execution_count": 3,
   "id": "0a3083d4-9e50-4cf6-8567-1d2a35f35514",
   "metadata": {},
   "outputs": [
    {
     "data": {
      "text/plain": [
       "('mohan', 47894, 22)"
      ]
     },
     "execution_count": 3,
     "metadata": {},
     "output_type": "execute_result"
    }
   ],
   "source": [
    "mohan.std_details()"
   ]
  },
  {
   "cell_type": "markdown",
   "id": "07f6fea5-4979-4ed5-8bff-172b8e53dd50",
   "metadata": {},
   "source": [
    "# Q2. Name the four pillars of OOPs."
   ]
  },
  {
   "cell_type": "markdown",
   "id": "e163ee5b-0a26-4420-aca4-ef3c36446444",
   "metadata": {},
   "source": [
    "The four pillars are (PIEA):\n",
    "\n",
    "1.\tPolymorphism\n",
    "\n",
    "2.\tinheritance\n",
    "\n",
    "3.\tencapsulation\n",
    "\n",
    "4.\tabstraction\n"
   ]
  },
  {
   "cell_type": "markdown",
   "id": "6b7ab1f5-19e7-4be3-9920-b404d1b9c816",
   "metadata": {},
   "source": [
    "# Q3. Explain why the __init__() function is used. Give a suitable example."
   ]
  },
  {
   "cell_type": "markdown",
   "id": "27d8f983-fa8a-475a-b057-c0ccdbec1c0e",
   "metadata": {},
   "source": [
    "__init__() function in python with special method, also known as constructor. This is automatically called as the class object is created. The main purpose of __init__() is to initialize the class variable with values provided as arguments during the class object creation. It basically act as a bridge between class variables and incoming object arguments.\n",
    "Variable initialization, default value of variables and code readability are the purpose of __init__() function\n",
    "\n",
    "\n",
    "In the below example incoming variable of object cat1(\"Whiskers\", 2) and cat2(\"Fluffy\", 4) are initialize to class Cat variable say, old respectively.\n"
   ]
  },
  {
   "cell_type": "code",
   "execution_count": 4,
   "id": "ec5b6e2e-3847-49ba-ad11-cca03adc210e",
   "metadata": {},
   "outputs": [],
   "source": [
    "# example:\n",
    "class Cat:\n",
    "    def __init__(self , name, age):\n",
    "        self.say=name\n",
    "        self.old=age"
   ]
  },
  {
   "cell_type": "code",
   "execution_count": 5,
   "id": "c010ec0d-3ba1-41b9-a36b-242d995f5680",
   "metadata": {},
   "outputs": [
    {
     "name": "stdout",
     "output_type": "stream",
     "text": [
      "Whiskers is 2 years old.\n",
      "Fluffy is 4 years old.\n"
     ]
    }
   ],
   "source": [
    "cat1 = Cat(\"Whiskers\", 2)\n",
    "cat2 = Cat(\"Fluffy\", 4)\n",
    "\n",
    "print(f\"{cat1.say} is {cat1.old} years old.\")\n",
    "print(f\"{cat2.say} is {cat2.old} years old.\")"
   ]
  },
  {
   "cell_type": "markdown",
   "id": "c97fb59f-cd89-4cac-8eaa-ea3acd7f9ddc",
   "metadata": {},
   "source": [
    "# Q4. Why self is used in OOPs?"
   ]
  },
  {
   "cell_type": "markdown",
   "id": "4db46687-c5c7-4767-9939-ba54f6138fc2",
   "metadata": {},
   "source": [
    "self is a convention used to represent the instance of the class.\n",
    "self allows to access the variables and function of the instance within the class.\n",
    "As an object is created from a class, the instance is automatically passed as the first argument to the __init__ method. \n",
    "\n",
    "example:\n",
    "class class1():\n",
    "    def c1_fn(self):\n",
    "        print('Class1')\n",
    "\n",
    "obj = class1() --> self is used to refer to instance (obj) and access its function cl_fn. This is short way of accesssing c1_fn()\n",
    "\n",
    "we can access function as:\n",
    "\n",
    "obj.c1_fn()        --> this is allowed as we have used \"self\"\n",
    "\n",
    "class1.c1_fn(obj)  --> 2nd method otherwise both are equal. Bot line are equal as the 1st line will be converted into 2nd line then pass.\n"
   ]
  },
  {
   "cell_type": "markdown",
   "id": "25a2668b-a40c-4148-8484-6ef2bf543d66",
   "metadata": {},
   "source": [
    "# Q5. What is inheritance? Give an example for each type of inheritance."
   ]
  },
  {
   "cell_type": "markdown",
   "id": "d10840a8-568c-4967-9f62-0d0f25f0e11c",
   "metadata": {},
   "source": [
    "Inheritance is a fundamental concept in Object-Oriented Programming (OOP) that allows a new class to inherit the properties and behaviors of an existing class. The existing class is referred to as the \"parent\" or \"base\" class, and the new class is called the \"child\" or \"derived\" class. \n",
    "Inheritance enables code reuse and the creation of a hierarchy of classes, where more specific classes inherit from more general ones."
   ]
  },
  {
   "cell_type": "code",
   "execution_count": 6,
   "id": "14dacf0b-511a-4633-a989-32c7fbe0bf5e",
   "metadata": {},
   "outputs": [],
   "source": [
    "## multi level inheritance\n",
    "class class1():\n",
    "    def c1_fn(self):\n",
    "        print('Class1')\n",
    "class class2(class1):\n",
    "    def c2_fn(self):\n",
    "        print('Class2')\n",
    "class class3(class2):\n",
    "    def c3_fn(self):\n",
    "        print('Class3')"
   ]
  },
  {
   "cell_type": "code",
   "execution_count": 7,
   "id": "daf95c7f-9c25-4908-bbb9-9e6d82bc8d44",
   "metadata": {},
   "outputs": [],
   "source": [
    "## multiple inheritance\n",
    "class class1():\n",
    "    def c1_fn(self):\n",
    "        print('Class1')\n",
    "class class2():\n",
    "    def c2_fn(self):\n",
    "        print('Class2')\n",
    "class class3(class1,class2):\n",
    "    def c3_fn(self):\n",
    "        print('Class3')"
   ]
  }
 ],
 "metadata": {
  "kernelspec": {
   "display_name": "Python 3 (ipykernel)",
   "language": "python",
   "name": "python3"
  },
  "language_info": {
   "codemirror_mode": {
    "name": "ipython",
    "version": 3
   },
   "file_extension": ".py",
   "mimetype": "text/x-python",
   "name": "python",
   "nbconvert_exporter": "python",
   "pygments_lexer": "ipython3",
   "version": "3.10.8"
  }
 },
 "nbformat": 4,
 "nbformat_minor": 5
}
