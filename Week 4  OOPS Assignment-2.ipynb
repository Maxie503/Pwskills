{
 "cells": [
  {
   "cell_type": "markdown",
   "id": "e4c75e2a-c2df-413b-a1be-061722a1e42d",
   "metadata": {},
   "source": [
    "# Q1, Create a vehicle class with an init method having instance variables as name_of_vehicle, max_speed and average_of_vehicle.\n"
   ]
  },
  {
   "cell_type": "code",
   "execution_count": 4,
   "id": "cc65af73-512f-4a29-b24e-5b6d3dcb76ef",
   "metadata": {},
   "outputs": [],
   "source": [
    "class vehicle:\n",
    "    def __init__(self,name,speed,age):    \n",
    "        self.name_of_vehicle=name\n",
    "        self.max_speed=speed\n",
    "        self.average_of_vehicle=age\n",
    "        "
   ]
  },
  {
   "cell_type": "markdown",
   "id": "89ef0179-ff74-4713-9dbe-3f9c091dc93a",
   "metadata": {},
   "source": [
    "# Q2. Create a child class car from the vehicle class created in Que 1, which will inherit the vehicle class. Create a method named seating_capacity which takes capacity as an argument and returns the name of the vehicle and its seating capacity."
   ]
  },
  {
   "cell_type": "code",
   "execution_count": 5,
   "id": "3c57a062-b230-4ea0-ba9f-eacab6f8b308",
   "metadata": {},
   "outputs": [],
   "source": [
    "class car(vehicle):\n",
    "    def seating_capacity(self,capacity):\n",
    "        self.seating_capacity=capacity\n",
    "        return self.name_of_vehicle,self.seating_capacity"
   ]
  },
  {
   "cell_type": "markdown",
   "id": "3c259b8f-065d-46da-8ee5-684a5d2e1fdd",
   "metadata": {},
   "source": [
    "# Q3. What is multiple inheritance? Write a python code to demonstrate multiple inheritance."
   ]
  },
  {
   "cell_type": "markdown",
   "id": "72afcec5-2acf-4b55-a3b3-373ee87f792f",
   "metadata": {},
   "source": [
    "in multiple inheritance the child class inherit the property or multiple(2 or more) parent classes."
   ]
  },
  {
   "cell_type": "code",
   "execution_count": null,
   "id": "0bb49dd4-75a0-4594-9f66-4ec75da128ff",
   "metadata": {},
   "outputs": [],
   "source": [
    "# example:\n",
    "\n",
    "class parent1:\n",
    "    def p1(self):\n",
    "        pass\n",
    "class parent2:\n",
    "    def p2(self):\n",
    "        pass\n",
    "    \n",
    "class child(parent1,parent2):\n",
    "    def c(self):\n",
    "        pass\n",
    "\n",
    "multi =child()"
   ]
  },
  {
   "cell_type": "markdown",
   "id": "21b56446-9c99-43d8-8593-488ae318ed41",
   "metadata": {},
   "source": [
    "# Q4. What are getter and setter in python? Create a class and create a getter and a setter method in this class."
   ]
  },
  {
   "cell_type": "markdown",
   "id": "c7cb809c-e986-4192-9d82-54757f693df1",
   "metadata": {},
   "source": [
    "The property decorator allows us to expose class variables to the outside. Getters and setters are features of a class that allow access, modification, and deletion of private/protected class variables. A getter allows us to retrieve the value of private class variables, while a setter allows us to set or change the value of private variables."
   ]
  },
  {
   "cell_type": "markdown",
   "id": "2505d4f8-38ec-4b14-9ccb-9e279a74f4fc",
   "metadata": {},
   "source": [
    "# Q5.What is method overriding in python? Write a python code to demonstrate method overriding."
   ]
  },
  {
   "cell_type": "markdown",
   "id": "29e8c21d-fa99-4b10-8906-fe0ddbe41c1f",
   "metadata": {},
   "source": [
    "The ability of subclass/child class to provide specific implementation for the function/method already define in its parent/main/super class is called method overriding. \n",
    "\n",
    "The overridden function/method must have same name, return type and parameters as defined in super class."
   ]
  },
  {
   "cell_type": "code",
   "execution_count": 2,
   "id": "b5f94e19-bc07-428a-b9d2-b1a96db2d0d7",
   "metadata": {},
   "outputs": [],
   "source": [
    "class animals:\n",
    "    def sound(self):\n",
    "        print('animal sound')\n",
    "class dog(animals):\n",
    "    def sound(self):\n",
    "        print('barks')\n",
    "class cat(animals):\n",
    "    def sound(self):\n",
    "        print('meows')"
   ]
  },
  {
   "cell_type": "code",
   "execution_count": 3,
   "id": "8d2978db-a4d1-4e31-ba9f-886d398f9068",
   "metadata": {},
   "outputs": [],
   "source": [
    "animal=animals()"
   ]
  },
  {
   "cell_type": "code",
   "execution_count": 5,
   "id": "89333382-e1f7-4395-b21d-19767f7cced3",
   "metadata": {},
   "outputs": [
    {
     "name": "stdout",
     "output_type": "stream",
     "text": [
      "animal sound\n"
     ]
    }
   ],
   "source": [
    "animal.sound()"
   ]
  },
  {
   "cell_type": "code",
   "execution_count": 6,
   "id": "9ad50b00-71aa-4fff-b929-956aa8ce9000",
   "metadata": {},
   "outputs": [],
   "source": [
    "dog=dog()"
   ]
  },
  {
   "cell_type": "code",
   "execution_count": 8,
   "id": "88e8a74e-d17b-4a79-81f1-eb242cc292d0",
   "metadata": {},
   "outputs": [
    {
     "name": "stdout",
     "output_type": "stream",
     "text": [
      "barks\n"
     ]
    }
   ],
   "source": [
    "dog.sound()"
   ]
  },
  {
   "cell_type": "code",
   "execution_count": 9,
   "id": "e12816f7-dd20-4037-a15b-b2ac60ebc3f7",
   "metadata": {},
   "outputs": [],
   "source": [
    "cat=cat()"
   ]
  },
  {
   "cell_type": "code",
   "execution_count": 10,
   "id": "5775174d-ef22-4c9f-a679-986745d11c34",
   "metadata": {},
   "outputs": [
    {
     "name": "stdout",
     "output_type": "stream",
     "text": [
      "meows\n"
     ]
    }
   ],
   "source": [
    "cat.sound()"
   ]
  },
  {
   "cell_type": "code",
   "execution_count": null,
   "id": "9cad9a4c-e0b0-4f27-8d4c-2bdbe1ef9a2d",
   "metadata": {},
   "outputs": [],
   "source": []
  }
 ],
 "metadata": {
  "kernelspec": {
   "display_name": "Python 3 (ipykernel)",
   "language": "python",
   "name": "python3"
  },
  "language_info": {
   "codemirror_mode": {
    "name": "ipython",
    "version": 3
   },
   "file_extension": ".py",
   "mimetype": "text/x-python",
   "name": "python",
   "nbconvert_exporter": "python",
   "pygments_lexer": "ipython3",
   "version": "3.10.8"
  }
 },
 "nbformat": 4,
 "nbformat_minor": 5
}
