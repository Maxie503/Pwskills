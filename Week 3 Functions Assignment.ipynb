{
 "cells": [
  {
   "cell_type": "markdown",
   "id": "7c83f868-ff02-425a-8992-89c72554f926",
   "metadata": {},
   "source": [
    "# Q1. Which keyword is used to create a function? Create a function to return a list of odd numbers in the range of 1 to 25."
   ]
  },
  {
   "cell_type": "markdown",
   "id": "b897c5f0-a2a9-4586-b880-0b02e65e1c97",
   "metadata": {},
   "source": [
    "# Ans:\n",
    "def fn_name() is used to create funtion in python\n"
   ]
  },
  {
   "cell_type": "code",
   "execution_count": 8,
   "id": "bc47cd2d-4dd8-4c4a-a43b-730f169cb1da",
   "metadata": {},
   "outputs": [
    {
     "data": {
      "text/plain": [
       "[1, 3, 5, 7, 9, 11, 13, 15, 17, 19, 21, 23, 25]"
      ]
     },
     "execution_count": 8,
     "metadata": {},
     "output_type": "execute_result"
    }
   ],
   "source": [
    "def odd_num():\n",
    "    odd=[]\n",
    "    for i in range(1,26):\n",
    "        if i%2 != 0:\n",
    "            odd.append(i)\n",
    "    return odd\n",
    "\n",
    "odd_num()    "
   ]
  },
  {
   "cell_type": "markdown",
   "id": "ba797071-842e-4d4d-a712-31a56c8152fa",
   "metadata": {},
   "source": [
    "# Q2. Why *args and **kwargs is used in some functions? Create a function each for *args and **kwargs to demonstrate their use."
   ]
  },
  {
   "cell_type": "markdown",
   "id": "1e5019b6-ccf8-4ff7-96a7-b6b1b4b23706",
   "metadata": {},
   "source": [
    "# Ans:\n",
    "\n",
    "function with argument *args can accept variable numbers of non-keywords arguments\n",
    "\n",
    "function with argument **kwargs can accept variable numbers of keywords arguments"
   ]
  },
  {
   "cell_type": "code",
   "execution_count": 58,
   "id": "4bf1e35a-cd30-4fd8-ab73-7e023c3cfdcf",
   "metadata": {},
   "outputs": [],
   "source": [
    "def f1(*args):\n",
    "    print('All value=',args)"
   ]
  },
  {
   "cell_type": "code",
   "execution_count": 59,
   "id": "4548c97b-d2f0-4c0d-bd50-545f80989267",
   "metadata": {},
   "outputs": [
    {
     "name": "stdout",
     "output_type": "stream",
     "text": [
      "All value= (1, 2, 3, 45, 6, 7, 8)\n"
     ]
    }
   ],
   "source": [
    "f1(1,2,3,45,6,7,8)"
   ]
  },
  {
   "cell_type": "code",
   "execution_count": 68,
   "id": "090f9627-368d-421c-b62f-358cf57f98df",
   "metadata": {},
   "outputs": [],
   "source": [
    "def f2(**kwargs):\n",
    "    for i,j in kwargs.items():\n",
    "        print(i,'=',j)"
   ]
  },
  {
   "cell_type": "code",
   "execution_count": 69,
   "id": "da71a64e-0066-4596-9d29-9b62a7130c3d",
   "metadata": {},
   "outputs": [
    {
     "name": "stdout",
     "output_type": "stream",
     "text": [
      "a = 1\n",
      "b = 2\n",
      "c = 3\n"
     ]
    }
   ],
   "source": [
    "f2(a=1,b=2,c=3)"
   ]
  },
  {
   "cell_type": "markdown",
   "id": "411fc7ed-e73e-44b7-adfa-1e440d55e88a",
   "metadata": {},
   "source": [
    "# Q3. What is an iterator in python? Name the method used to initialise the iterator object and the method used for iteration. Use these methods to print the first five elements of the given list [2, 4, 6, 8, 10, 12, 14, 16,18, 20]."
   ]
  },
  {
   "cell_type": "markdown",
   "id": "6a8819c7-bae8-4884-89ca-c4a08f059080",
   "metadata": {},
   "source": [
    "# Ans:\n",
    "iterator is an object that allows to transverse through all the elements of collections and return one element at a time"
   ]
  },
  {
   "cell_type": "code",
   "execution_count": 70,
   "id": "148e2a95-25c3-4e7e-b16e-fb956944484d",
   "metadata": {},
   "outputs": [],
   "source": [
    "my_list = [2, 4, 6, 8, 10, 12, 14, 16, 18, 20]"
   ]
  },
  {
   "cell_type": "code",
   "execution_count": 71,
   "id": "4b182399-f9ad-4b24-b35d-42086ca40fbc",
   "metadata": {},
   "outputs": [],
   "source": [
    "list_iterator = iter(my_list)"
   ]
  },
  {
   "cell_type": "code",
   "execution_count": 75,
   "id": "d3b8f0fa-eaa6-42f3-83d2-84e60af193b5",
   "metadata": {},
   "outputs": [
    {
     "name": "stdout",
     "output_type": "stream",
     "text": [
      "2\n",
      "4\n",
      "6\n",
      "8\n",
      "10\n"
     ]
    }
   ],
   "source": [
    "for _ in range(5):\n",
    "    print(next(list_iterator))"
   ]
  },
  {
   "cell_type": "markdown",
   "id": "608cfd63-fadf-4e17-9522-8d23949631be",
   "metadata": {},
   "source": [
    "# Q4. What is a generator function in python? Why yield keyword is used? Give an example of a generator function."
   ]
  },
  {
   "cell_type": "markdown",
   "id": "b4770e26-2421-4d14-ae1d-c9f96d00a219",
   "metadata": {},
   "source": [
    "# Ans:\n",
    "A generator function is a special type of function that allows to iterate over a large sequence of data without actually storing the entire sequence in the memoary.\n",
    "The normal function return a values and then terminates, the generator function use \"yield\" keyword to yield a value to the caller on the fly, but retain their state and can be resumed from where they left off.\n"
   ]
  },
  {
   "cell_type": "code",
   "execution_count": 76,
   "id": "8f9c592f-ad95-4cfa-92f9-fd3383f3b0f7",
   "metadata": {},
   "outputs": [],
   "source": [
    "def fib(n):\n",
    "    a,b=0,1\n",
    "    for i in range(n):\n",
    "        yield a\n",
    "        a,b=b,a+b"
   ]
  },
  {
   "cell_type": "code",
   "execution_count": 79,
   "id": "677ab4f5-b265-41dc-97b0-fd791cce2a97",
   "metadata": {},
   "outputs": [
    {
     "name": "stdout",
     "output_type": "stream",
     "text": [
      "0\n",
      "1\n",
      "1\n",
      "2\n",
      "3\n",
      "5\n",
      "8\n",
      "13\n",
      "21\n",
      "34\n"
     ]
    }
   ],
   "source": [
    "for i in fib(10):\n",
    "    print(i)"
   ]
  },
  {
   "cell_type": "markdown",
   "id": "55d3bc43-a23a-4332-b81a-34805b242330",
   "metadata": {},
   "source": [
    "# Q5. Create a generator function for prime numbers less than 1000. Use the next() method to print the first 20 prime numbers."
   ]
  },
  {
   "cell_type": "code",
   "execution_count": 5,
   "id": "430dd5a5-dbdb-4cae-84e9-e374a7a0b2fc",
   "metadata": {},
   "outputs": [
    {
     "name": "stdout",
     "output_type": "stream",
     "text": [
      "2\n",
      "3\n",
      "5\n",
      "7\n",
      "11\n",
      "13\n",
      "17\n",
      "19\n",
      "23\n",
      "29\n",
      "31\n",
      "37\n",
      "41\n",
      "43\n",
      "47\n",
      "53\n",
      "59\n",
      "61\n",
      "67\n",
      "71\n"
     ]
    }
   ],
   "source": [
    "def prime(n):\n",
    "    if n<2:\n",
    "        return False\n",
    "    for i in range (2,n):\n",
    "        if n%i==0:\n",
    "            return False\n",
    "    else:\n",
    "        return True\n",
    "def gen():\n",
    "    count=0\n",
    "    for i in range(1000):\n",
    "        if prime(i):\n",
    "            yield i\n",
    "            count+=1\n",
    "            if count>20:\n",
    "                break\n",
    "\n",
    "                \n",
    "                \n",
    "itr=iter(gen())\n",
    "for i in range(20):\n",
    "    num=next(itr)\n",
    "    print(num)"
   ]
  },
  {
   "cell_type": "code",
   "execution_count": null,
   "id": "41da6fad-95a5-4c21-905d-1f7ecc15cd70",
   "metadata": {},
   "outputs": [],
   "source": []
  }
 ],
 "metadata": {
  "kernelspec": {
   "display_name": "Python 3 (ipykernel)",
   "language": "python",
   "name": "python3"
  },
  "language_info": {
   "codemirror_mode": {
    "name": "ipython",
    "version": 3
   },
   "file_extension": ".py",
   "mimetype": "text/x-python",
   "name": "python",
   "nbconvert_exporter": "python",
   "pygments_lexer": "ipython3",
   "version": "3.10.8"
  }
 },
 "nbformat": 4,
 "nbformat_minor": 5
}
